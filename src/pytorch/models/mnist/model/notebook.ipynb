{
 "cells": [
  {
   "cell_type": "markdown",
   "metadata": {},
   "source": [
    "# Download Image classifier model "
   ]
  },
  {
   "cell_type": "markdown",
   "metadata": {},
   "source": [
    "Model used by KServe examples is in `gs://kfserving-examples/models/torchserve/image_classifier/v2`\n",
    "\n",
    "\n",
    "Require gsutil to copy the model locally"
   ]
  },
  {
   "cell_type": "markdown",
   "metadata": {},
   "source": [
    "## Pre-requisites"
   ]
  },
  {
   "cell_type": "markdown",
   "metadata": {},
   "source": [
    "In terminal execute following commands to install gsutil in ubuntu\n",
    "\n",
    "Reference: https://cloud.google.com/storage/docs/gsutil_install\n",
    "\n",
    "```shell\n",
    "sudo apt-get update\n",
    "sudo apt-get install apt-transport-https ca-certificates gnupg curl\n",
    "curl https://packages.cloud.google.com/apt/doc/apt-key.gpg | sudo gpg --dearmor -o /usr/share/keyrings/cloud.google.gpg\n",
    "echo \"deb [signed-by=/usr/share/keyrings/cloud.google.gpg] https://packages.cloud.google.com/apt cloud-sdk main\" | sudo tee -a /etc/apt/sources.list.d/google-cloud-sdk.list\n",
    "sudo apt-get update && sudo apt-get install google-cloud-cli\n",
    "```"
   ]
  },
  {
   "cell_type": "markdown",
   "metadata": {},
   "source": [
    "## Copy model to local "
   ]
  },
  {
   "cell_type": "code",
   "execution_count": 2,
   "metadata": {
    "vscode": {
     "languageId": "shellscript"
    }
   },
   "outputs": [
    {
     "name": "stderr",
     "output_type": "stream",
     "text": [
      "Copying gs://kfserving-examples/models/torchserve/image_classifier/v2/config/config.properties...\n",
      "Copying gs://kfserving-examples/models/torchserve/image_classifier/v2/model-store/mnist.mar...\n",
      "- [2 files][  4.3 MiB/  4.3 MiB]                                                \n",
      "Operation completed over 2 objects/4.3 MiB.                                      \n"
     ]
    }
   ],
   "source": [
    "%%bash\n",
    "gsutil cp -r gs://kfserving-examples/models/torchserve/image_classifier/v2/ ."
   ]
  },
  {
   "cell_type": "markdown",
   "metadata": {},
   "source": [
    "## Extract v2/model-store/mnist.mar"
   ]
  },
  {
   "cell_type": "code",
   "execution_count": 3,
   "metadata": {
    "vscode": {
     "languageId": "shellscript"
    }
   },
   "outputs": [
    {
     "name": "stdout",
     "output_type": "stream",
     "text": [
      "Archive:  mnist.mar\n",
      "  inflating: mnist_cnn.pt            \n",
      "  inflating: mnist_handler.py        \n",
      "  inflating: mnist.py                \n",
      "  inflating: MAR-INF/MANIFEST.json   \n",
      " extracting: requirements.txt        \n"
     ]
    }
   ],
   "source": [
    "%%bash\n",
    "cd v2/model-store\n",
    "unzip -o mnist.mar\n",
    "cp mnist.py ../../\n",
    "cp mnist_cnn.pt ../../\n",
    "cp requirements.txt ../../"
   ]
  },
  {
   "cell_type": "code",
   "execution_count": 4,
   "metadata": {
    "vscode": {
     "languageId": "shellscript"
    }
   },
   "outputs": [],
   "source": [
    "%%bash\n",
    "rm -rf v2/"
   ]
  },
  {
   "cell_type": "code",
   "execution_count": 2,
   "metadata": {},
   "outputs": [
    {
     "data": {
      "text/plain": [
       "Net(\n",
       "  (conv1): Conv2d(1, 32, kernel_size=(3, 3), stride=(1, 1))\n",
       "  (conv2): Conv2d(32, 64, kernel_size=(3, 3), stride=(1, 1))\n",
       "  (dropout1): Dropout2d(p=0.25, inplace=False)\n",
       "  (dropout2): Dropout2d(p=0.5, inplace=False)\n",
       "  (fc1): Linear(in_features=9216, out_features=128, bias=True)\n",
       "  (fc2): Linear(in_features=128, out_features=10, bias=True)\n",
       ")"
      ]
     },
     "execution_count": 2,
     "metadata": {},
     "output_type": "execute_result"
    }
   ],
   "source": [
    "from mnist import Net\n",
    "import torch \n",
    "\n",
    "model = Net()\n",
    "model_path = \"mnist_cnn.pt\"\n",
    "model_state_dict = torch.load(model_path)\n",
    "model.load_state_dict(model_state_dict)\n",
    "model.eval()"
   ]
  },
  {
   "cell_type": "code",
   "execution_count": 3,
   "metadata": {},
   "outputs": [],
   "source": [
    "# save as torch script model\n",
    "scripted_model = torch.jit.script(model)\n",
    "scripted_model.save(\"mnist_cnn_jit.pt\")"
   ]
  }
 ],
 "metadata": {
  "kernelspec": {
   "display_name": "Python 3",
   "language": "python",
   "name": "python3"
  },
  "language_info": {
   "codemirror_mode": {
    "name": "ipython",
    "version": 3
   },
   "file_extension": ".py",
   "mimetype": "text/x-python",
   "name": "python",
   "nbconvert_exporter": "python",
   "pygments_lexer": "ipython3",
   "version": "3.11.8"
  }
 },
 "nbformat": 4,
 "nbformat_minor": 2
}
